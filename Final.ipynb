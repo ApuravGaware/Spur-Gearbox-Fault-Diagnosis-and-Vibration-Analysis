{
 "cells": [
  {
   "cell_type": "code",
   "execution_count": 1,
   "metadata": {},
   "outputs": [],
   "source": [
    "import os\n",
    "import numpy as np\n",
    "import pandas as pd\n",
    "import matplotlib.pyplot as plt\n",
    "from scipy.fftpack import fft\n",
    "from sklearn.model_selection import train_test_split\n",
    "from sklearn.ensemble import RandomForestClassifier\n",
    "from sklearn.svm import SVC\n",
    "from sklearn.neighbors import KNeighborsClassifier\n",
    "from sklearn.linear_model import LogisticRegression, LinearRegression\n",
    "from sklearn.naive_bayes import GaussianNB\n",
    "from sklearn.metrics import accuracy_score, confusion_matrix, classification_report\n",
    "import seaborn as sns"
   ]
  },
  {
   "cell_type": "code",
   "execution_count": 2,
   "metadata": {},
   "outputs": [
    {
     "name": "stdout",
     "output_type": "stream",
     "text": [
      "    sensor1  sensor2   sensor3  load  state\n",
      "0  1.260410 -1.35726 -1.916330    10      1\n",
      "1 -0.126204 -2.27283  0.536155    10      1\n",
      "2 -0.903164 -1.04204 -0.741337    10      1\n",
      "3 -1.693560  2.79295 -0.066998    10      1\n",
      "4 -3.556980  2.11411  0.225473    10      1\n"
     ]
    }
   ],
   "source": [
    "# Load and preprocess the data\n",
    "data = pd.read_csv('/Users/apurav/Downloads/data(1).csv')\n",
    "data_sen = data[['sensor1', 'sensor2', 'sensor3', 'load']]\n",
    "data_state = data.state\n",
    "\n",
    "# Split the data into training and testing sets\n",
    "X_train, X_test, y_train, y_test = train_test_split(data_sen, data_state, test_size=0.3, random_state=42)\n",
    "\n",
    "print(data.head())"
   ]
  },
  {
   "cell_type": "code",
   "execution_count": 3,
   "metadata": {},
   "outputs": [
    {
     "name": "stdout",
     "output_type": "stream",
     "text": [
      "KNN Accuracy: 0.58\n",
      "[[180512 124333]\n",
      " [115544 157608]]\n",
      "              precision    recall  f1-score   support\n",
      "\n",
      "           0       0.61      0.59      0.60    304845\n",
      "           1       0.56      0.58      0.57    273152\n",
      "\n",
      "    accuracy                           0.58    577997\n",
      "   macro avg       0.58      0.58      0.58    577997\n",
      "weighted avg       0.59      0.58      0.59    577997\n",
      "\n"
     ]
    }
   ],
   "source": [
    "# Train and evaluate the K-Nearest Neighbors model\n",
    "knn_model = KNeighborsClassifier(n_neighbors=5)\n",
    "knn_model.fit(X_train, y_train)\n",
    "knn_predictions = knn_model.predict(X_test)\n",
    "knn_accuracy = accuracy_score(y_test, knn_predictions)\n",
    "print(f\"KNN Accuracy: {knn_accuracy:.2f}\")\n",
    "print(confusion_matrix(y_test, knn_predictions))\n",
    "print(classification_report(y_test, knn_predictions))"
   ]
  },
  {
   "cell_type": "code",
   "execution_count": 4,
   "metadata": {},
   "outputs": [
    {
     "name": "stdout",
     "output_type": "stream",
     "text": [
      "Logistic Regression Accuracy: 0.53\n",
      "[[304845      0]\n",
      " [273152      0]]\n"
     ]
    },
    {
     "name": "stderr",
     "output_type": "stream",
     "text": [
      "/opt/homebrew/Caskroom/miniconda/base/lib/python3.12/site-packages/sklearn/metrics/_classification.py:1509: UndefinedMetricWarning: Precision is ill-defined and being set to 0.0 in labels with no predicted samples. Use `zero_division` parameter to control this behavior.\n",
      "  _warn_prf(average, modifier, f\"{metric.capitalize()} is\", len(result))\n"
     ]
    },
    {
     "name": "stdout",
     "output_type": "stream",
     "text": [
      "              precision    recall  f1-score   support\n",
      "\n",
      "           0       0.53      1.00      0.69    304845\n",
      "           1       0.00      0.00      0.00    273152\n",
      "\n",
      "    accuracy                           0.53    577997\n",
      "   macro avg       0.26      0.50      0.35    577997\n",
      "weighted avg       0.28      0.53      0.36    577997\n",
      "\n"
     ]
    },
    {
     "name": "stderr",
     "output_type": "stream",
     "text": [
      "/opt/homebrew/Caskroom/miniconda/base/lib/python3.12/site-packages/sklearn/metrics/_classification.py:1509: UndefinedMetricWarning: Precision is ill-defined and being set to 0.0 in labels with no predicted samples. Use `zero_division` parameter to control this behavior.\n",
      "  _warn_prf(average, modifier, f\"{metric.capitalize()} is\", len(result))\n",
      "/opt/homebrew/Caskroom/miniconda/base/lib/python3.12/site-packages/sklearn/metrics/_classification.py:1509: UndefinedMetricWarning: Precision is ill-defined and being set to 0.0 in labels with no predicted samples. Use `zero_division` parameter to control this behavior.\n",
      "  _warn_prf(average, modifier, f\"{metric.capitalize()} is\", len(result))\n"
     ]
    }
   ],
   "source": [
    "# Train and evaluate the Logistic Regression model\n",
    "lr_model = LogisticRegression(random_state=42)\n",
    "lr_model.fit(X_train, y_train)\n",
    "lr_predictions = lr_model.predict(X_test)\n",
    "lr_accuracy = accuracy_score(y_test, lr_predictions)\n",
    "print(f\"Logistic Regression Accuracy: {lr_accuracy:.2f}\")\n",
    "print(confusion_matrix(y_test, lr_predictions))\n",
    "print(classification_report(y_test, lr_predictions))"
   ]
  },
  {
   "cell_type": "code",
   "execution_count": 5,
   "metadata": {},
   "outputs": [
    {
     "name": "stdout",
     "output_type": "stream",
     "text": [
      "Linear Regression Accuracy: 0.53\n",
      "[[304845      0]\n",
      " [273152      0]]\n"
     ]
    },
    {
     "name": "stderr",
     "output_type": "stream",
     "text": [
      "/opt/homebrew/Caskroom/miniconda/base/lib/python3.12/site-packages/sklearn/metrics/_classification.py:1509: UndefinedMetricWarning: Precision is ill-defined and being set to 0.0 in labels with no predicted samples. Use `zero_division` parameter to control this behavior.\n",
      "  _warn_prf(average, modifier, f\"{metric.capitalize()} is\", len(result))\n"
     ]
    },
    {
     "name": "stdout",
     "output_type": "stream",
     "text": [
      "              precision    recall  f1-score   support\n",
      "\n",
      "           0       0.53      1.00      0.69    304845\n",
      "           1       0.00      0.00      0.00    273152\n",
      "\n",
      "    accuracy                           0.53    577997\n",
      "   macro avg       0.26      0.50      0.35    577997\n",
      "weighted avg       0.28      0.53      0.36    577997\n",
      "\n"
     ]
    },
    {
     "name": "stderr",
     "output_type": "stream",
     "text": [
      "/opt/homebrew/Caskroom/miniconda/base/lib/python3.12/site-packages/sklearn/metrics/_classification.py:1509: UndefinedMetricWarning: Precision is ill-defined and being set to 0.0 in labels with no predicted samples. Use `zero_division` parameter to control this behavior.\n",
      "  _warn_prf(average, modifier, f\"{metric.capitalize()} is\", len(result))\n",
      "/opt/homebrew/Caskroom/miniconda/base/lib/python3.12/site-packages/sklearn/metrics/_classification.py:1509: UndefinedMetricWarning: Precision is ill-defined and being set to 0.0 in labels with no predicted samples. Use `zero_division` parameter to control this behavior.\n",
      "  _warn_prf(average, modifier, f\"{metric.capitalize()} is\", len(result))\n"
     ]
    }
   ],
   "source": [
    "# Train and evaluate the Linear Regression model\n",
    "linear_model = LinearRegression()\n",
    "linear_model.fit(X_train, y_train)\n",
    "linear_predictions = np.round(linear_model.predict(X_test))\n",
    "linear_accuracy = accuracy_score(y_test, linear_predictions)\n",
    "print(f\"Linear Regression Accuracy: {linear_accuracy:.2f}\")\n",
    "print(confusion_matrix(y_test, linear_predictions))\n",
    "print(classification_report(y_test, linear_predictions))"
   ]
  },
  {
   "cell_type": "code",
   "execution_count": 6,
   "metadata": {},
   "outputs": [
    {
     "name": "stdout",
     "output_type": "stream",
     "text": [
      "Naive Bayes Accuracy: 0.57\n",
      "[[127070 177775]\n",
      " [ 71560 201592]]\n",
      "              precision    recall  f1-score   support\n",
      "\n",
      "           0       0.64      0.42      0.50    304845\n",
      "           1       0.53      0.74      0.62    273152\n",
      "\n",
      "    accuracy                           0.57    577997\n",
      "   macro avg       0.59      0.58      0.56    577997\n",
      "weighted avg       0.59      0.57      0.56    577997\n",
      "\n"
     ]
    }
   ],
   "source": [
    "# Train and evaluate the Naive Bayes model\n",
    "nb_model = GaussianNB()\n",
    "nb_model.fit(X_train, y_train)\n",
    "nb_predictions = nb_model.predict(X_test)\n",
    "nb_accuracy = accuracy_score(y_test, nb_predictions)\n",
    "print(f\"Naive Bayes Accuracy: {nb_accuracy:.2f}\")\n",
    "print(confusion_matrix(y_test, nb_predictions))\n",
    "print(classification_report(y_test, nb_predictions))"
   ]
  },
  {
   "cell_type": "code",
   "execution_count": 7,
   "metadata": {},
   "outputs": [
    {
     "name": "stdout",
     "output_type": "stream",
     "text": [
      "Random Forest Accuracy: 0.60\n",
      "[[180216 124629]\n",
      " [109228 163924]]\n",
      "              precision    recall  f1-score   support\n",
      "\n",
      "           0       0.62      0.59      0.61    304845\n",
      "           1       0.57      0.60      0.58    273152\n",
      "\n",
      "    accuracy                           0.60    577997\n",
      "   macro avg       0.60      0.60      0.60    577997\n",
      "weighted avg       0.60      0.60      0.60    577997\n",
      "\n"
     ]
    }
   ],
   "source": [
    "# Train and evaluate the Random Forest model\n",
    "rf_model = RandomForestClassifier(n_estimators=100, random_state=42)\n",
    "rf_model.fit(X_train, y_train)\n",
    "rf_predictions = rf_model.predict(X_test)\n",
    "rf_accuracy = accuracy_score(y_test, rf_predictions)\n",
    "print(f\"Random Forest Accuracy: {rf_accuracy:.2f}\")\n",
    "print(confusion_matrix(y_test, rf_predictions))\n",
    "print(classification_report(y_test, rf_predictions))"
   ]
  },
  {
   "cell_type": "code",
   "execution_count": 8,
   "metadata": {},
   "outputs": [
    {
     "name": "stderr",
     "output_type": "stream",
     "text": [
      "/var/folders/4s/j9v28xds5hx9nq1j_pvq5jzh0000gn/T/ipykernel_15645/927149909.py:6: FutureWarning: \n",
      "\n",
      "Passing `palette` without assigning `hue` is deprecated and will be removed in v0.14.0. Assign the `x` variable to `hue` and set `legend=False` for the same effect.\n",
      "\n",
      "  sns.barplot(x=models, y=accuracies, palette='viridis')\n"
     ]
    },
    {
     "data": {
      "image/png": "[encoded data removed]",
      "text/plain": [
       "<Figure size 1200x600 with 1 Axes>"
      ]
     },
     "metadata": {},
     "output_type": "display_data"
    }
   ],
   "source": [
    "# Visualization of the results\n",
    "models = ['Random Forest', 'KNN', 'Logistic Regression', 'Linear Regression', 'Naive Bayes']\n",
    "accuracies = [rf_accuracy, knn_accuracy, lr_accuracy, linear_accuracy, nb_accuracy]\n",
    "\n",
    "plt.figure(figsize=(12, 6))\n",
    "sns.barplot(x=models, y=accuracies, palette='viridis')\n",
    "plt.title('Accuracy Comparison of Different Models')\n",
    "plt.ylabel('Accuracy')\n",
    "plt.xlabel('Model')\n",
    "plt.ylim(0, 1)\n",
    "plt.show()"
   ]
  },
  {
   "cell_type": "code",
   "execution_count": null,
   "metadata": {},
   "outputs": [],
   "source": []
  }
 ],
 "metadata": {
  "kernelspec": {
   "display_name": "base",
   "language": "python",
   "name": "python3"
  },
  "language_info": {
   "codemirror_mode": {
    "name": "ipython",
    "version": 3
   },
   "file_extension": ".py",
   "mimetype": "text/x-python",
   "name": "python",
   "nbconvert_exporter": "python",
   "pygments_lexer": "ipython3",
   "version": "3.12.2"
  }
 },
 "nbformat": 4,
 "nbformat_minor": 2
}
