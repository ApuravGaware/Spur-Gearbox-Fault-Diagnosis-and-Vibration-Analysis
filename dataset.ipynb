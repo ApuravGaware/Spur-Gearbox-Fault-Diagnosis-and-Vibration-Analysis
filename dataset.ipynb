{
 "cells": [
  {
   "cell_type": "code",
   "execution_count": 1,
   "metadata": {},
   "outputs": [
    {
     "name": "stdout",
     "output_type": "stream",
     "text": [
      "Skipping b30hz40.csv due to incorrect number of columns: 4\n",
      "     sensor1   sensor2     sensor3  load  state\n",
      "0         a1        a2          a3    10      1\n",
      "1    1.26041  -1.35726    -1.91633    10      1\n",
      "2  -0.126204  -2.27283    0.536155    10      1\n",
      "3  -0.903164  -1.04204   -0.741337    10      1\n",
      "4   -1.69356   2.79295  -0.0669978    10      1\n"
     ]
    }
   ],
   "source": [
    "import os\n",
    "import pandas as pd\n",
    "\n",
    "def load_and_merge_data(folder_path):\n",
    "    data_list = []\n",
    "    for folder in ['BrokenTooth', 'Healthy']:\n",
    "        folder_full_path = os.path.join(folder_path, folder)\n",
    "        for filename in os.listdir(folder_full_path):\n",
    "            if filename.endswith('.csv'):\n",
    "                filepath = os.path.join(folder_full_path, filename)\n",
    "                df = pd.read_csv(filepath, header=None)\n",
    "                # Check the shape of the DataFrame\n",
    "                if df.shape[1] == 3:\n",
    "                    load = int(filename.split('hz')[1].split('.')[0])\n",
    "                    state = 0 if filename.startswith('h') else 1\n",
    "                    df['load'] = load\n",
    "                    df['state'] = state\n",
    "                    data_list.append(df)\n",
    "                else:\n",
    "                    print(f\"Skipping {filename} due to incorrect number of columns: {df.shape[1]}\")\n",
    "    merged_data = pd.concat(data_list, axis=0, ignore_index=True)\n",
    "    merged_data.columns = ['sensor1', 'sensor2', 'sensor3', 'load', 'state']\n",
    "    return merged_data\n",
    "\n",
    "folder_path = '/Users/apurav/Desktop/archive/'\n",
    "data = load_and_merge_data(folder_path)\n",
    "data.to_csv('/Users/apurav/Downloads/data1.csv', index=False)\n",
    "\n",
    "print(data.head())"
   ]
  },
  {
   "cell_type": "code",
   "execution_count": null,
   "metadata": {},
   "outputs": [],
   "source": [
    "df =pd.read_csv('/Users/apurav/Downloads/data.csv')\n",
    "df = df.drop(df[df.sensor1 == 'a1'].index)\n",
    "df.to_csv('/Users/apurav/Downloads/data(1).csv', index=False)"
   ]
  },
  {
   "cell_type": "code",
   "execution_count": null,
   "metadata": {},
   "outputs": [],
   "source": []
  }
 ],
 "metadata": {
  "kernelspec": {
   "display_name": "base",
   "language": "python",
   "name": "python3"
  },
  "language_info": {
   "codemirror_mode": {
    "name": "ipython",
    "version": 3
   },
   "file_extension": ".py",
   "mimetype": "text/x-python",
   "name": "python",
   "nbconvert_exporter": "python",
   "pygments_lexer": "ipython3",
   "version": "3.12.2"
  }
 },
 "nbformat": 4,
 "nbformat_minor": 2
}
